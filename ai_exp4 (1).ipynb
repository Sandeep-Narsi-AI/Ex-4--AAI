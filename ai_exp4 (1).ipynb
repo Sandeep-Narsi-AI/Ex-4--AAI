{
  "nbformat": 4,
  "nbformat_minor": 0,
  "metadata": {
    "colab": {
      "provenance": []
    },
    "kernelspec": {
      "name": "python3",
      "display_name": "Python 3"
    },
    "language_info": {
      "name": "python"
    }
  },
  "cells": [
    {
      "cell_type": "code",
      "execution_count": null,
      "metadata": {
        "id": "tdAbSxtZskN5"
      },
      "outputs": [],
      "source": [
        "import numpy as np"
      ]
    },
    {
      "cell_type": "code",
      "source": [
        "transition_matrix = np.array([[0.7,0.3],[0.4,0.6]])"
      ],
      "metadata": {
        "id": "KhcYYSw9vRHT"
      },
      "execution_count": null,
      "outputs": []
    },
    {
      "cell_type": "code",
      "source": [
        "emission_matrix = np.array([[0.1,0.9],[0.8,0.2]])"
      ],
      "metadata": {
        "id": "aIg_Eu7rvuPb"
      },
      "execution_count": null,
      "outputs": []
    },
    {
      "cell_type": "code",
      "source": [
        "initial_probabilities=np.array([0.5,0.5])"
      ],
      "metadata": {
        "id": "VtX9RWOwwBGl"
      },
      "execution_count": null,
      "outputs": []
    },
    {
      "cell_type": "code",
      "source": [
        "observed_sequence= np.array([1,1,1,0,0,1])"
      ],
      "metadata": {
        "id": "5Bng91u5wR0m"
      },
      "execution_count": null,
      "outputs": []
    },
    {
      "cell_type": "code",
      "source": [
        "alpha =np.zeros((len(observed_sequence),len(initial_probabilities)))"
      ],
      "metadata": {
        "id": "WctgUBo4pw-u"
      },
      "execution_count": null,
      "outputs": []
    },
    {
      "cell_type": "code",
      "source": [
        "alpha[0,:] = initial_probabilities*emission_matrix[:,observed_sequence[0]]"
      ],
      "metadata": {
        "id": "LgKs05rWp9V5"
      },
      "execution_count": null,
      "outputs": []
    },
    {
      "cell_type": "code",
      "source": [
        "for t in range(1,len(observed_sequence)):\n",
        "  for j in range(len(initial_probabilities)):\n",
        "    alpha[t,j] = emission_matrix[j,observed_sequence[t]]*np.sum(alpha[t-1,:]*transition_matrix[:,j])"
      ],
      "metadata": {
        "id": "BAMC93_1qHT6"
      },
      "execution_count": null,
      "outputs": []
    },
    {
      "cell_type": "code",
      "source": [
        "probability=np.sum(alpha[-1,:])"
      ],
      "metadata": {
        "id": "ceCaSx6FqjE-"
      },
      "execution_count": null,
      "outputs": []
    },
    {
      "cell_type": "code",
      "source": [
        "print(\"The probability of the observed sequence is:\", probability)"
      ],
      "metadata": {
        "colab": {
          "base_uri": "https://localhost:8080/"
        },
        "id": "iAHpNdSFqoi8",
        "outputId": "f4eb773e-b211-4a51-9d1e-c3ba7e239210"
      },
      "execution_count": null,
      "outputs": [
        {
          "output_type": "stream",
          "name": "stdout",
          "text": [
            "The probability of the observed sequence is: 0.0029121740800000014\n"
          ]
        }
      ]
    },
    {
      "cell_type": "code",
      "source": [
        "most_likely_sequence=[]\n",
        "for t in range(len(observed_sequence)):\n",
        "  if alpha[t,0]> alpha[t,1]:\n",
        "    most_likely_sequence.append(\"sunny\")\n",
        "  else :\n",
        "    most_likely_sequence.append(\"rainy\")"
      ],
      "metadata": {
        "id": "lj-gS_OmqvI3"
      },
      "execution_count": null,
      "outputs": []
    },
    {
      "cell_type": "code",
      "source": [
        "print(\"The most likely sequence of weather state is:\", most_likely_sequence)"
      ],
      "metadata": {
        "colab": {
          "base_uri": "https://localhost:8080/"
        },
        "id": "pkgjRBvqrHoE",
        "outputId": "9124ac77-cef5-4ea1-cd7c-fc6a0f2d3359"
      },
      "execution_count": null,
      "outputs": [
        {
          "output_type": "stream",
          "name": "stdout",
          "text": [
            "The most likely sequence of weather state is: ['sunny', 'sunny', 'sunny', 'rainy', 'rainy', 'rainy']\n"
          ]
        }
      ]
    },
    {
      "cell_type": "code",
      "source": [],
      "metadata": {
        "id": "uSTyujRbrQoe"
      },
      "execution_count": null,
      "outputs": []
    }
  ]
}